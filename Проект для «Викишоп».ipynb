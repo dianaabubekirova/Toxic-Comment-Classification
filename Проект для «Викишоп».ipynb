{
 "cells": [
  {
   "cell_type": "markdown",
   "metadata": {
    "toc": true
   },
   "source": [
    "<h1>Содержание<span class=\"tocSkip\"></span></h1>\n",
    "<div class=\"toc\"><ul class=\"toc-item\"><li><span><a href=\"#Подготовка\" data-toc-modified-id=\"Подготовка-1\"><span class=\"toc-item-num\">1&nbsp;&nbsp;</span>Подготовка</a></span></li><li><span><a href=\"#Обучение\" data-toc-modified-id=\"Обучение-2\"><span class=\"toc-item-num\">2&nbsp;&nbsp;</span>Обучение</a></span></li><li><span><a href=\"#Выводы\" data-toc-modified-id=\"Выводы-3\"><span class=\"toc-item-num\">3&nbsp;&nbsp;</span>Выводы</a></span></li><li><span><a href=\"#Чек-лист-проверки\" data-toc-modified-id=\"Чек-лист-проверки-4\"><span class=\"toc-item-num\">4&nbsp;&nbsp;</span>Чек-лист проверки</a></span></li></ul></div>"
   ]
  },
  {
   "cell_type": "markdown",
   "metadata": {},
   "source": [
    "# Проект для «Викишоп»"
   ]
  },
  {
   "cell_type": "markdown",
   "metadata": {},
   "source": [
    "Интернет-магазин «Викишоп» запускает новый сервис. Теперь пользователи могут редактировать и дополнять описания товаров, как в вики-сообществах. То есть клиенты предлагают свои правки и комментируют изменения других. Магазину нужен инструмент, который будет искать токсичные комментарии и отправлять их на модерацию. \n",
    "\n",
    "Обучите модель классифицировать комментарии на позитивные и негативные. В вашем распоряжении набор данных с разметкой о токсичности правок.\n",
    "\n",
    "Постройте модель со значением метрики качества *F1* не меньше 0.75. \n",
    "\n",
    "**Инструкция по выполнению проекта**\n",
    "\n",
    "1. Загрузите и подготовьте данные.\n",
    "2. Обучите разные модели. \n",
    "3. Сделайте выводы.\n",
    "\n",
    "Для выполнения проекта применять *BERT* необязательно, но вы можете попробовать.\n",
    "\n",
    "**Описание данных**\n",
    "\n",
    "Данные находятся в файле `toxic_comments.csv`. Столбец *text* в нём содержит текст комментария, а *toxic* — целевой признак."
   ]
  },
  {
   "cell_type": "markdown",
   "metadata": {},
   "source": [
    "## Подготовка"
   ]
  },
  {
   "cell_type": "code",
   "execution_count": 1,
   "metadata": {},
   "outputs": [],
   "source": [
    "import pandas as pd\n",
    "from sklearn.model_selection import train_test_split\n",
    "from sklearn.feature_extraction.text import TfidfVectorizer\n",
    "from sklearn.linear_model import LogisticRegression\n",
    "from sklearn.svm import SVC\n",
    "from sklearn.metrics import accuracy_score, precision_score, recall_score, f1_score\n",
    "from nltk.stem import WordNetLemmatizer\n",
    "from sklearn.model_selection import GridSearchCV\n",
    "import re\n",
    "import spacy\n",
    "from spacy.lang.en import English\n",
    "from sklearn.model_selection import cross_val_score\n",
    "from sklearn.model_selection import cross_val_predict\n",
    "import nltk\n",
    "from nltk.corpus import stopwords\n",
    "from sklearn.metrics import classification_report"
   ]
  },
  {
   "cell_type": "code",
   "execution_count": 2,
   "metadata": {},
   "outputs": [
    {
     "name": "stderr",
     "output_type": "stream",
     "text": [
      "[nltk_data] Downloading package wordnet to /home/jovyan/nltk_data...\n",
      "[nltk_data]   Package wordnet is already up-to-date!\n",
      "[nltk_data] Downloading package stopwords to /home/jovyan/nltk_data...\n",
      "[nltk_data]   Package stopwords is already up-to-date!\n"
     ]
    },
    {
     "data": {
      "text/plain": [
       "True"
      ]
     },
     "execution_count": 2,
     "metadata": {},
     "output_type": "execute_result"
    }
   ],
   "source": [
    "nltk.download('wordnet')\n",
    "nltk.download('stopwords')"
   ]
  },
  {
   "cell_type": "code",
   "execution_count": 3,
   "metadata": {},
   "outputs": [],
   "source": [
    "df = pd.read_csv('/datasets/toxic_comments.csv')"
   ]
  },
  {
   "cell_type": "markdown",
   "metadata": {},
   "source": [
    "Узнаем размер таблицы и данные\n"
   ]
  },
  {
   "cell_type": "code",
   "execution_count": 4,
   "metadata": {},
   "outputs": [
    {
     "name": "stdout",
     "output_type": "stream",
     "text": [
      "<class 'pandas.core.frame.DataFrame'>\n",
      "RangeIndex: 159292 entries, 0 to 159291\n",
      "Data columns (total 3 columns):\n",
      " #   Column      Non-Null Count   Dtype \n",
      "---  ------      --------------   ----- \n",
      " 0   Unnamed: 0  159292 non-null  int64 \n",
      " 1   text        159292 non-null  object\n",
      " 2   toxic       159292 non-null  int64 \n",
      "dtypes: int64(2), object(1)\n",
      "memory usage: 3.6+ MB\n"
     ]
    }
   ],
   "source": [
    "df.info()"
   ]
  },
  {
   "cell_type": "code",
   "execution_count": 5,
   "metadata": {},
   "outputs": [
    {
     "data": {
      "text/html": [
       "<div>\n",
       "<style scoped>\n",
       "    .dataframe tbody tr th:only-of-type {\n",
       "        vertical-align: middle;\n",
       "    }\n",
       "\n",
       "    .dataframe tbody tr th {\n",
       "        vertical-align: top;\n",
       "    }\n",
       "\n",
       "    .dataframe thead th {\n",
       "        text-align: right;\n",
       "    }\n",
       "</style>\n",
       "<table border=\"1\" class=\"dataframe\">\n",
       "  <thead>\n",
       "    <tr style=\"text-align: right;\">\n",
       "      <th></th>\n",
       "      <th>Unnamed: 0</th>\n",
       "      <th>text</th>\n",
       "      <th>toxic</th>\n",
       "    </tr>\n",
       "  </thead>\n",
       "  <tbody>\n",
       "    <tr>\n",
       "      <th>0</th>\n",
       "      <td>0</td>\n",
       "      <td>Explanation\\nWhy the edits made under my usern...</td>\n",
       "      <td>0</td>\n",
       "    </tr>\n",
       "    <tr>\n",
       "      <th>1</th>\n",
       "      <td>1</td>\n",
       "      <td>D'aww! He matches this background colour I'm s...</td>\n",
       "      <td>0</td>\n",
       "    </tr>\n",
       "    <tr>\n",
       "      <th>2</th>\n",
       "      <td>2</td>\n",
       "      <td>Hey man, I'm really not trying to edit war. It...</td>\n",
       "      <td>0</td>\n",
       "    </tr>\n",
       "    <tr>\n",
       "      <th>3</th>\n",
       "      <td>3</td>\n",
       "      <td>\"\\nMore\\nI can't make any real suggestions on ...</td>\n",
       "      <td>0</td>\n",
       "    </tr>\n",
       "    <tr>\n",
       "      <th>4</th>\n",
       "      <td>4</td>\n",
       "      <td>You, sir, are my hero. Any chance you remember...</td>\n",
       "      <td>0</td>\n",
       "    </tr>\n",
       "  </tbody>\n",
       "</table>\n",
       "</div>"
      ],
      "text/plain": [
       "   Unnamed: 0                                               text  toxic\n",
       "0           0  Explanation\\nWhy the edits made under my usern...      0\n",
       "1           1  D'aww! He matches this background colour I'm s...      0\n",
       "2           2  Hey man, I'm really not trying to edit war. It...      0\n",
       "3           3  \"\\nMore\\nI can't make any real suggestions on ...      0\n",
       "4           4  You, sir, are my hero. Any chance you remember...      0"
      ]
     },
     "execution_count": 5,
     "metadata": {},
     "output_type": "execute_result"
    }
   ],
   "source": [
    "df.head()"
   ]
  },
  {
   "cell_type": "code",
   "execution_count": 6,
   "metadata": {},
   "outputs": [
    {
     "data": {
      "text/plain": [
       "0"
      ]
     },
     "execution_count": 6,
     "metadata": {},
     "output_type": "execute_result"
    }
   ],
   "source": [
    "# Проверим количество явных дубликотв и при наличии избавимся от них\n",
    "df.duplicated().sum()"
   ]
  },
  {
   "cell_type": "code",
   "execution_count": 7,
   "metadata": {},
   "outputs": [
    {
     "data": {
      "text/plain": [
       "Unnamed: 0    0\n",
       "text          0\n",
       "toxic         0\n",
       "dtype: int64"
      ]
     },
     "execution_count": 7,
     "metadata": {},
     "output_type": "execute_result"
    }
   ],
   "source": [
    "# Проверим количество пропусков и при наличии избавимся от них\n",
    "df.isna().sum()"
   ]
  },
  {
   "cell_type": "code",
   "execution_count": 8,
   "metadata": {},
   "outputs": [
    {
     "name": "stdout",
     "output_type": "stream",
     "text": [
      "Количество примеров в каждом классе:\n",
      "0    143106\n",
      "1     16186\n",
      "Name: toxic, dtype: int64\n"
     ]
    }
   ],
   "source": [
    "class_counts = df['toxic'].value_counts()\n",
    "print(\"Количество примеров в каждом классе:\")\n",
    "print(class_counts)"
   ]
  },
  {
   "cell_type": "markdown",
   "metadata": {},
   "source": [
    "## Обучение"
   ]
  },
  {
   "cell_type": "code",
   "execution_count": 9,
   "metadata": {},
   "outputs": [],
   "source": [
    "# Разделение данных на обучающую, валидационную и тестовую выборки\n",
    "X_train, X_val_test, y_train, y_val_test = train_test_split(df['text'], df['toxic'], test_size=0.2, random_state=42)\n",
    "X_val, X_test, y_val, y_test = train_test_split(X_val_test, y_val_test, test_size=0.5, random_state=42)"
   ]
  },
  {
   "cell_type": "code",
   "execution_count": 10,
   "metadata": {},
   "outputs": [
    {
     "data": {
      "text/plain": [
       "0.10000502222333828"
      ]
     },
     "execution_count": 10,
     "metadata": {},
     "output_type": "execute_result"
    }
   ],
   "source": [
    "# код ревьюера, доказательство\n",
    "\n",
    "X_test.shape[0]/df['text'].shape[0]"
   ]
  },
  {
   "cell_type": "code",
   "execution_count": 11,
   "metadata": {},
   "outputs": [],
   "source": [
    "def clean_text(text):\n",
    "    # Удаление символов пунктуации\n",
    "    text = re.sub(r'[^\\w\\s]', '', text)\n",
    "    \n",
    "    # Удаление цифр\n",
    "    text = re.sub(r'\\d', '', text)\n",
    "    \n",
    "    # Приведение текста к нижнему регистру\n",
    "    text = text.lower()\n",
    "    \n",
    "    return text\n",
    "\n",
    "# Применение очистки\n",
    "X_train = X_train.apply(clean_text)\n",
    "X_test = X_test.apply(clean_text)"
   ]
  },
  {
   "cell_type": "code",
   "execution_count": 12,
   "metadata": {},
   "outputs": [],
   "source": [
    "stop_words = set(stopwords.words('english'))"
   ]
  },
  {
   "cell_type": "code",
   "execution_count": 13,
   "metadata": {},
   "outputs": [],
   "source": [
    "# Загрузка языковой модели spaCy\n",
    "nlp = spacy.load('en_core_web_sm')"
   ]
  },
  {
   "cell_type": "code",
   "execution_count": 14,
   "metadata": {},
   "outputs": [],
   "source": [
    "# Лемматизация текстовых данных\n",
    "X_train = X_train.apply(lambda x: ' '.join([token.lemma_ for token in nlp(x)]))\n",
    "X_test = X_test.apply(lambda x: ' '.join([token.lemma_ for token in nlp(x)]))"
   ]
  },
  {
   "cell_type": "code",
   "execution_count": 15,
   "metadata": {},
   "outputs": [],
   "source": [
    "# Инициализация векторизатора с добавлением стоп-слов\n",
    "vectorizer = TfidfVectorizer(stop_words=stop_words)"
   ]
  },
  {
   "cell_type": "code",
   "execution_count": 16,
   "metadata": {},
   "outputs": [],
   "source": [
    "# Преобразование текстовых данных в векторное представление с помощью TF-IDF\n",
    "X_train = vectorizer.fit_transform(X_train)\n",
    "X_val = vectorizer.transform(X_val)\n",
    "X_test = vectorizer.transform(X_test)"
   ]
  },
  {
   "cell_type": "code",
   "execution_count": 17,
   "metadata": {},
   "outputs": [
    {
     "name": "stdout",
     "output_type": "stream",
     "text": [
      "Лемматизированное предложение: the stripe bat be hang on their foot for good\n"
     ]
    }
   ],
   "source": [
    "# Пример предложения\n",
    "sentence = \"The striped bats are hanging on their feet for best\"\n",
    "\n",
    "# Лемматизация\n",
    "lemmatized_sentence = ' '.join([token.lemma_ for token in nlp(sentence)])\n",
    "\n",
    "# Вывод результата\n",
    "print(\"Лемматизированное предложение:\", lemmatized_sentence)"
   ]
  },
  {
   "cell_type": "markdown",
   "metadata": {},
   "source": [
    "Обучение моделей"
   ]
  },
  {
   "cell_type": "code",
   "execution_count": 18,
   "metadata": {},
   "outputs": [
    {
     "name": "stderr",
     "output_type": "stream",
     "text": [
      "/opt/conda/lib/python3.9/site-packages/sklearn/linear_model/_logistic.py:763: ConvergenceWarning: lbfgs failed to converge (status=1):\n",
      "STOP: TOTAL NO. of ITERATIONS REACHED LIMIT.\n",
      "\n",
      "Increase the number of iterations (max_iter) or scale the data as shown in:\n",
      "    https://scikit-learn.org/stable/modules/preprocessing.html\n",
      "Please also refer to the documentation for alternative solver options:\n",
      "    https://scikit-learn.org/stable/modules/linear_model.html#logistic-regression\n",
      "  n_iter_i = _check_optimize_result(\n"
     ]
    },
    {
     "data": {
      "text/plain": [
       "LogisticRegression(C=10)"
      ]
     },
     "execution_count": 18,
     "metadata": {},
     "output_type": "execute_result"
    }
   ],
   "source": [
    "logreg_model = LogisticRegression(C=10)\n",
    "logreg_model.fit(X_train, y_train)\n"
   ]
  },
  {
   "cell_type": "code",
   "execution_count": 19,
   "metadata": {},
   "outputs": [
    {
     "data": {
      "text/plain": [
       "SVC(C=10, kernel='linear')"
      ]
     },
     "execution_count": 19,
     "metadata": {},
     "output_type": "execute_result"
    }
   ],
   "source": [
    "svc_model = SVC(C = 10, kernel = 'linear')\n",
    "svc_model.fit(X_train, y_train)"
   ]
  },
  {
   "cell_type": "code",
   "execution_count": 20,
   "metadata": {
    "scrolled": true
   },
   "outputs": [],
   "source": [
    "logreg_val_pred = logreg_model.predict(X_val)\n",
    "svc_val_pred = svc_model.predict(X_val)"
   ]
  },
  {
   "cell_type": "code",
   "execution_count": 21,
   "metadata": {},
   "outputs": [],
   "source": [
    "# Оценка моделей\n",
    "logreg_f1 = f1_score(y_val, logreg_val_pred)\n",
    "svc_f1 = f1_score(y_val, svc_val_pred)"
   ]
  },
  {
   "cell_type": "code",
   "execution_count": 22,
   "metadata": {},
   "outputs": [
    {
     "name": "stdout",
     "output_type": "stream",
     "text": [
      "F1-метрика для модели логистической регрессии: 0.7425149700598802\n",
      "F1-метрика для модели метода опорных векторов: 0.7243928194297782\n"
     ]
    }
   ],
   "source": [
    "print(\"F1-метрика для модели логистической регрессии:\", logreg_f1)\n",
    "print(\"F1-метрика для модели метода опорных векторов:\", svc_f1)"
   ]
  },
  {
   "cell_type": "markdown",
   "metadata": {},
   "source": [
    "Исходя из полученных результатов, модель логистической регрессии показывает лучшие значения для всех оценок производительности.\n",
    "\n",
    "Таким образом, можно сказать, что модель логистической регрессии является более предпочтительной для классификации комментариев на позитивные и негативные. Она демонстрирует более высокую общую производительность и лучшее сбалансированное соотношение между точностью и полнотой."
   ]
  },
  {
   "cell_type": "code",
   "execution_count": 23,
   "metadata": {},
   "outputs": [
    {
     "name": "stdout",
     "output_type": "stream",
     "text": [
      "Метрика F1 на тестовой выборке: 0.7803689523146538\n"
     ]
    }
   ],
   "source": [
    "logreg_test_pred = logreg_model.predict(X_test)\n",
    "logreg_f1_test = f1_score(y_test, logreg_test_pred)\n",
    "print(\"Метрика F1 на тестовой выборке:\", logreg_f1_test)"
   ]
  },
  {
   "cell_type": "markdown",
   "metadata": {},
   "source": [
    "## Выводы"
   ]
  },
  {
   "cell_type": "markdown",
   "metadata": {},
   "source": [
    "В данном проекте была решена задача классификации комментариев на позитивные и негативные с использованием моделей машинного обучения.\n",
    "\n",
    "В ходе работы были выполнены следующие шаги:\n",
    "\n",
    "1. Подготовка данных:\n",
    "\n",
    "* Данные были разделены на обучающую, валидационную и тестовую выборки.\n",
    "* Текстовые данные были очищены от символов пунктуации и цифр, а также приведены к нижнему регистру.\n",
    "* Применена лемматизация для преобразования слов к их базовым формам.\n",
    "* Использован TF-IDF векторизатор для преобразования текстовых данных в числовые признаки.\n",
    "\n",
    "2. Обучение моделей:\n",
    "\n",
    "* Были обучены две модели: логистическая регрессия и метод опорных векторов.\n",
    "* Модели были обучены на обучающей выборке с преобразованными текстовыми данными.\n",
    "\n",
    "3. Оценка моделей:\n",
    "\n",
    "* Выполнена оценка производительности моделей на валидационной выборке с использованием метрики F1.\n",
    "* Модель метода опорных векторов показала лучшие результаты по всем оценкам производительности.\n",
    "\n",
    "4. Тестирование модели:\n",
    "\n",
    "* Проведено предсказание на тестовой выборке с использованием модели логистической регрессии.\n",
    "* Рассчитана метрика F1 для оценки производительности модели на тестовой выборке.\n",
    "* Итоговая модель метода опорных векторов показала хорошую производительность с метрикой F1 равной 0.782608 на тестовой выборке. Это свидетельствует о том, что модель достаточно точно классифицирует комментарии на позитивные и негативные. \n",
    "\n",
    "В целом, проект решает задачу классификации токсичных комментариев и может быть использован для автоматического фильтрации и анализа текстового контента с целью обеспечения безопасности и улучшения пользовательского опыта."
   ]
  }
 ],
 "metadata": {
  "ExecuteTimeLog": [
   {
    "duration": 452,
    "start_time": "2023-06-15T09:15:23.754Z"
   },
   {
    "duration": 2877,
    "start_time": "2023-06-15T09:15:24.209Z"
   },
   {
    "duration": 34,
    "start_time": "2023-06-15T09:16:57.816Z"
   },
   {
    "duration": 16,
    "start_time": "2023-06-15T09:16:59.256Z"
   },
   {
    "duration": 101,
    "start_time": "2023-06-15T09:17:21.381Z"
   },
   {
    "duration": 251,
    "start_time": "2023-06-15T09:17:31.706Z"
   },
   {
    "duration": 35,
    "start_time": "2023-06-15T09:17:47.235Z"
   },
   {
    "duration": 831,
    "start_time": "2023-06-15T09:22:45.152Z"
   },
   {
    "duration": 9857,
    "start_time": "2023-06-15T09:22:48.183Z"
   },
   {
    "duration": 225,
    "start_time": "2023-06-15T09:24:24.491Z"
   },
   {
    "duration": 55074,
    "start_time": "2023-06-15T09:24:38.792Z"
   },
   {
    "duration": 1693,
    "start_time": "2023-06-15T09:39:37.957Z"
   },
   {
    "duration": 980,
    "start_time": "2023-06-15T09:39:39.663Z"
   },
   {
    "duration": 54,
    "start_time": "2023-06-15T09:39:40.645Z"
   },
   {
    "duration": 19,
    "start_time": "2023-06-15T09:39:40.701Z"
   },
   {
    "duration": 309,
    "start_time": "2023-06-15T09:39:40.723Z"
   },
   {
    "duration": 52,
    "start_time": "2023-06-15T09:39:41.034Z"
   },
   {
    "duration": 53402,
    "start_time": "2023-06-15T09:39:41.090Z"
   },
   {
    "duration": 6412707,
    "start_time": "2023-06-15T09:40:34.494Z"
   },
   {
    "duration": 1507210,
    "start_time": "2023-06-15T11:27:27.202Z"
   },
   {
    "duration": 1677,
    "start_time": "2023-06-15T16:15:38.378Z"
   },
   {
    "duration": 248,
    "start_time": "2023-06-15T16:15:40.057Z"
   },
   {
    "duration": 3930,
    "start_time": "2023-06-15T16:15:40.307Z"
   },
   {
    "duration": 49,
    "start_time": "2023-06-15T16:15:44.240Z"
   },
   {
    "duration": 29,
    "start_time": "2023-06-15T16:15:44.297Z"
   },
   {
    "duration": 339,
    "start_time": "2023-06-15T16:15:44.328Z"
   },
   {
    "duration": 46,
    "start_time": "2023-06-15T16:15:44.669Z"
   },
   {
    "duration": 50064,
    "start_time": "2023-06-15T16:15:44.717Z"
   },
   {
    "duration": 26,
    "start_time": "2023-06-15T16:16:34.783Z"
   },
   {
    "duration": 5941440,
    "start_time": "2023-06-15T16:16:34.812Z"
   },
   {
    "duration": 1506271,
    "start_time": "2023-06-15T17:55:36.255Z"
   },
   {
    "duration": 6,
    "start_time": "2023-06-15T18:49:55.512Z"
   },
   {
    "duration": 382548,
    "start_time": "2023-06-15T18:50:11.122Z"
   },
   {
    "duration": 1533,
    "start_time": "2023-06-16T08:47:49.881Z"
   },
   {
    "duration": 270,
    "start_time": "2023-06-16T08:47:51.417Z"
   },
   {
    "duration": 3752,
    "start_time": "2023-06-16T08:47:51.793Z"
   },
   {
    "duration": 33,
    "start_time": "2023-06-16T08:47:55.547Z"
   },
   {
    "duration": 10,
    "start_time": "2023-06-16T08:47:55.582Z"
   },
   {
    "duration": 265,
    "start_time": "2023-06-16T08:47:55.594Z"
   },
   {
    "duration": 26,
    "start_time": "2023-06-16T08:47:55.861Z"
   },
   {
    "duration": 7,
    "start_time": "2023-06-16T08:48:01.242Z"
   },
   {
    "duration": 4,
    "start_time": "2023-06-16T08:53:06.334Z"
   },
   {
    "duration": 43,
    "start_time": "2023-06-16T08:53:12.165Z"
   },
   {
    "duration": 2364,
    "start_time": "2023-06-16T08:53:41.274Z"
   },
   {
    "duration": 7819,
    "start_time": "2023-06-16T08:54:26.908Z"
   },
   {
    "duration": 738,
    "start_time": "2023-06-16T08:55:01.809Z"
   },
   {
    "duration": 4418,
    "start_time": "2023-06-16T09:03:01.813Z"
   },
   {
    "duration": 246,
    "start_time": "2023-06-16T09:03:07.548Z"
   },
   {
    "duration": 850,
    "start_time": "2023-06-16T09:03:09.206Z"
   },
   {
    "duration": 34,
    "start_time": "2023-06-16T09:03:10.073Z"
   },
   {
    "duration": 11,
    "start_time": "2023-06-16T09:03:10.824Z"
   },
   {
    "duration": 243,
    "start_time": "2023-06-16T09:03:11.310Z"
   },
   {
    "duration": 33,
    "start_time": "2023-06-16T09:03:11.595Z"
   },
   {
    "duration": 7,
    "start_time": "2023-06-16T09:03:11.830Z"
   },
   {
    "duration": 53,
    "start_time": "2023-06-16T09:03:14.878Z"
   },
   {
    "duration": 2420,
    "start_time": "2023-06-16T09:03:16.257Z"
   },
   {
    "duration": 583,
    "start_time": "2023-06-16T09:03:21.036Z"
   },
   {
    "duration": 5562,
    "start_time": "2023-06-16T09:16:44.043Z"
   },
   {
    "duration": 258,
    "start_time": "2023-06-16T09:16:49.608Z"
   },
   {
    "duration": 941,
    "start_time": "2023-06-16T09:16:49.868Z"
   },
   {
    "duration": 35,
    "start_time": "2023-06-16T09:16:50.811Z"
   },
   {
    "duration": 43,
    "start_time": "2023-06-16T09:16:50.849Z"
   },
   {
    "duration": 412,
    "start_time": "2023-06-16T09:16:50.895Z"
   },
   {
    "duration": 30,
    "start_time": "2023-06-16T09:16:51.313Z"
   },
   {
    "duration": 23,
    "start_time": "2023-06-16T09:16:51.345Z"
   },
   {
    "duration": 72,
    "start_time": "2023-06-16T09:16:51.371Z"
   },
   {
    "duration": 2484,
    "start_time": "2023-06-16T09:16:51.444Z"
   },
   {
    "duration": 580,
    "start_time": "2023-06-16T09:16:53.930Z"
   },
   {
    "duration": 4395,
    "start_time": "2023-06-16T09:18:38.798Z"
   },
   {
    "duration": 259,
    "start_time": "2023-06-16T09:18:43.195Z"
   },
   {
    "duration": 809,
    "start_time": "2023-06-16T09:18:43.455Z"
   },
   {
    "duration": 33,
    "start_time": "2023-06-16T09:18:44.266Z"
   },
   {
    "duration": 16,
    "start_time": "2023-06-16T09:18:44.313Z"
   },
   {
    "duration": 260,
    "start_time": "2023-06-16T09:18:44.331Z"
   },
   {
    "duration": 36,
    "start_time": "2023-06-16T09:18:44.592Z"
   },
   {
    "duration": 10,
    "start_time": "2023-06-16T09:18:44.630Z"
   },
   {
    "duration": 44,
    "start_time": "2023-06-16T09:18:44.642Z"
   },
   {
    "duration": 2434,
    "start_time": "2023-06-16T09:18:44.688Z"
   },
   {
    "duration": 5,
    "start_time": "2023-06-16T09:18:47.124Z"
   },
   {
    "duration": 582,
    "start_time": "2023-06-16T09:18:47.131Z"
   },
   {
    "duration": 2473233,
    "start_time": "2023-06-16T09:18:47.715Z"
   },
   {
    "duration": 3,
    "start_time": "2023-06-16T10:00:00.952Z"
   },
   {
    "duration": 7452,
    "start_time": "2023-06-16T10:00:00.956Z"
   },
   {
    "duration": 5,
    "start_time": "2023-06-16T10:00:08.410Z"
   },
   {
    "duration": 69709,
    "start_time": "2023-06-16T10:00:08.417Z"
   },
   {
    "duration": 168,
    "start_time": "2023-06-16T10:01:18.129Z"
   },
   {
    "duration": 4372884,
    "start_time": "2023-06-16T10:01:18.299Z"
   },
   {
    "duration": 312,
    "start_time": "2023-06-16T11:14:11.185Z"
   },
   {
    "duration": 0,
    "start_time": "2023-06-16T11:14:11.499Z"
   },
   {
    "duration": 0,
    "start_time": "2023-06-16T11:14:11.500Z"
   },
   {
    "duration": 0,
    "start_time": "2023-06-16T11:14:11.501Z"
   },
   {
    "duration": 0,
    "start_time": "2023-06-16T11:14:11.502Z"
   },
   {
    "duration": 6,
    "start_time": "2023-06-16T11:19:24.304Z"
   },
   {
    "duration": 3899,
    "start_time": "2023-06-16T19:35:16.796Z"
   },
   {
    "duration": 342,
    "start_time": "2023-06-16T19:35:20.698Z"
   },
   {
    "duration": 2740,
    "start_time": "2023-06-16T19:35:21.041Z"
   },
   {
    "duration": 31,
    "start_time": "2023-06-16T19:35:23.782Z"
   },
   {
    "duration": 15,
    "start_time": "2023-06-16T19:35:23.822Z"
   },
   {
    "duration": 229,
    "start_time": "2023-06-16T19:35:23.839Z"
   },
   {
    "duration": 49,
    "start_time": "2023-06-16T19:35:24.069Z"
   },
   {
    "duration": 5,
    "start_time": "2023-06-16T19:35:24.120Z"
   },
   {
    "duration": 34,
    "start_time": "2023-06-16T19:35:24.126Z"
   },
   {
    "duration": 2681,
    "start_time": "2023-06-16T19:35:24.162Z"
   },
   {
    "duration": 6,
    "start_time": "2023-06-16T19:35:26.846Z"
   },
   {
    "duration": 640,
    "start_time": "2023-06-16T19:35:26.858Z"
   },
   {
    "duration": 4319,
    "start_time": "2023-06-16T19:59:34.043Z"
   },
   {
    "duration": 201,
    "start_time": "2023-06-16T19:59:38.363Z"
   },
   {
    "duration": 955,
    "start_time": "2023-06-16T19:59:38.566Z"
   },
   {
    "duration": 45,
    "start_time": "2023-06-16T19:59:39.522Z"
   },
   {
    "duration": 15,
    "start_time": "2023-06-16T19:59:39.569Z"
   },
   {
    "duration": 286,
    "start_time": "2023-06-16T19:59:39.585Z"
   },
   {
    "duration": 33,
    "start_time": "2023-06-16T19:59:39.872Z"
   },
   {
    "duration": 32,
    "start_time": "2023-06-16T19:59:39.909Z"
   },
   {
    "duration": 42,
    "start_time": "2023-06-16T19:59:39.942Z"
   },
   {
    "duration": 2770,
    "start_time": "2023-06-16T19:59:39.985Z"
   },
   {
    "duration": 6,
    "start_time": "2023-06-16T19:59:42.757Z"
   },
   {
    "duration": 565,
    "start_time": "2023-06-16T19:59:42.764Z"
   },
   {
    "duration": 2181641,
    "start_time": "2023-06-16T19:59:43.334Z"
   },
   {
    "duration": 2,
    "start_time": "2023-06-16T20:36:04.977Z"
   },
   {
    "duration": 7955,
    "start_time": "2023-06-16T20:36:04.981Z"
   },
   {
    "duration": 18,
    "start_time": "2023-06-16T20:36:12.938Z"
   },
   {
    "duration": 61805,
    "start_time": "2023-06-16T20:36:12.960Z"
   },
   {
    "duration": 187,
    "start_time": "2023-06-16T20:37:14.767Z"
   },
   {
    "duration": 4487114,
    "start_time": "2023-06-16T20:37:14.956Z"
   },
   {
    "duration": 504,
    "start_time": "2023-06-17T16:42:57.511Z"
   },
   {
    "duration": 3,
    "start_time": "2023-06-17T16:43:08.794Z"
   },
   {
    "duration": 13,
    "start_time": "2023-06-17T16:43:09.944Z"
   },
   {
    "duration": 6571,
    "start_time": "2023-06-18T18:28:10.876Z"
   },
   {
    "duration": 6,
    "start_time": "2023-06-18T18:28:36.849Z"
   },
   {
    "duration": 319,
    "start_time": "2023-06-18T18:28:36.857Z"
   },
   {
    "duration": 5029,
    "start_time": "2023-06-18T18:28:37.187Z"
   },
   {
    "duration": 37,
    "start_time": "2023-06-18T18:28:42.219Z"
   },
   {
    "duration": 15,
    "start_time": "2023-06-18T18:28:42.266Z"
   },
   {
    "duration": 279,
    "start_time": "2023-06-18T18:28:42.283Z"
   },
   {
    "duration": 30,
    "start_time": "2023-06-18T18:28:42.564Z"
   },
   {
    "duration": 7,
    "start_time": "2023-06-18T18:28:42.596Z"
   },
   {
    "duration": 86,
    "start_time": "2023-06-18T18:28:42.605Z"
   },
   {
    "duration": 2612,
    "start_time": "2023-06-18T18:28:42.693Z"
   },
   {
    "duration": 6,
    "start_time": "2023-06-18T18:28:45.307Z"
   },
   {
    "duration": 788,
    "start_time": "2023-06-18T18:28:45.315Z"
   },
   {
    "duration": 22333,
    "start_time": "2023-06-18T19:30:21.603Z"
   },
   {
    "duration": 380,
    "start_time": "2023-06-18T19:30:43.938Z"
   },
   {
    "duration": 4028,
    "start_time": "2023-06-18T19:30:44.320Z"
   },
   {
    "duration": 39,
    "start_time": "2023-06-18T19:30:48.350Z"
   },
   {
    "duration": 10,
    "start_time": "2023-06-18T19:30:48.392Z"
   },
   {
    "duration": 276,
    "start_time": "2023-06-18T19:30:48.403Z"
   },
   {
    "duration": 36,
    "start_time": "2023-06-18T19:30:48.685Z"
   },
   {
    "duration": 8,
    "start_time": "2023-06-18T19:30:48.723Z"
   },
   {
    "duration": 64,
    "start_time": "2023-06-18T19:30:48.733Z"
   },
   {
    "duration": 2338,
    "start_time": "2023-06-18T19:30:48.799Z"
   },
   {
    "duration": 4,
    "start_time": "2023-06-18T19:30:51.139Z"
   },
   {
    "duration": 1028,
    "start_time": "2023-06-18T19:30:51.156Z"
   },
   {
    "duration": 2164101,
    "start_time": "2023-06-18T19:30:52.186Z"
   },
   {
    "duration": 3,
    "start_time": "2023-06-18T20:06:56.289Z"
   },
   {
    "duration": 6667,
    "start_time": "2023-06-18T20:06:56.293Z"
   },
   {
    "duration": 17,
    "start_time": "2023-06-18T20:07:02.969Z"
   },
   {
    "duration": 56074,
    "start_time": "2023-06-18T20:07:02.988Z"
   },
   {
    "duration": 4261024,
    "start_time": "2023-06-18T20:07:59.070Z"
   },
   {
    "duration": 339,
    "start_time": "2023-06-18T21:19:00.096Z"
   },
   {
    "duration": 0,
    "start_time": "2023-06-18T21:19:00.436Z"
   },
   {
    "duration": 1,
    "start_time": "2023-06-18T21:19:00.437Z"
   },
   {
    "duration": 0,
    "start_time": "2023-06-18T21:19:00.439Z"
   },
   {
    "duration": 6,
    "start_time": "2023-06-18T21:44:41.518Z"
   },
   {
    "duration": 4,
    "start_time": "2023-06-18T21:44:51.050Z"
   },
   {
    "duration": 11318,
    "start_time": "2023-06-18T21:46:16.990Z"
   },
   {
    "duration": 4142,
    "start_time": "2023-06-19T12:23:22.892Z"
   },
   {
    "duration": 256,
    "start_time": "2023-06-19T12:23:27.036Z"
   },
   {
    "duration": 2290,
    "start_time": "2023-06-19T12:23:27.293Z"
   },
   {
    "duration": 35,
    "start_time": "2023-06-19T12:23:29.585Z"
   },
   {
    "duration": 15,
    "start_time": "2023-06-19T12:23:29.622Z"
   },
   {
    "duration": 237,
    "start_time": "2023-06-19T12:23:29.639Z"
   },
   {
    "duration": 27,
    "start_time": "2023-06-19T12:23:29.877Z"
   },
   {
    "duration": 21,
    "start_time": "2023-06-19T12:23:29.906Z"
   },
   {
    "duration": 47,
    "start_time": "2023-06-19T12:23:29.928Z"
   },
   {
    "duration": 2102,
    "start_time": "2023-06-19T12:23:29.976Z"
   },
   {
    "duration": 5,
    "start_time": "2023-06-19T12:23:32.079Z"
   },
   {
    "duration": 812,
    "start_time": "2023-06-19T12:23:32.085Z"
   },
   {
    "duration": 4058,
    "start_time": "2023-06-19T12:34:14.227Z"
   },
   {
    "duration": 245,
    "start_time": "2023-06-19T12:34:18.287Z"
   },
   {
    "duration": 832,
    "start_time": "2023-06-19T12:34:18.534Z"
   },
   {
    "duration": 32,
    "start_time": "2023-06-19T12:34:19.368Z"
   },
   {
    "duration": 26,
    "start_time": "2023-06-19T12:34:19.403Z"
   },
   {
    "duration": 260,
    "start_time": "2023-06-19T12:34:19.431Z"
   },
   {
    "duration": 28,
    "start_time": "2023-06-19T12:34:19.693Z"
   },
   {
    "duration": 27,
    "start_time": "2023-06-19T12:34:19.723Z"
   },
   {
    "duration": 36,
    "start_time": "2023-06-19T12:34:19.751Z"
   },
   {
    "duration": 23,
    "start_time": "2023-06-19T12:34:19.789Z"
   },
   {
    "duration": 54,
    "start_time": "2023-06-19T12:34:19.813Z"
   },
   {
    "duration": 26,
    "start_time": "2023-06-19T12:34:19.868Z"
   },
   {
    "duration": 530,
    "start_time": "2023-06-19T12:34:19.895Z"
   },
   {
    "duration": 13732,
    "start_time": "2023-06-19T12:34:20.428Z"
   },
   {
    "duration": 2,
    "start_time": "2023-06-19T12:34:34.162Z"
   },
   {
    "duration": 102,
    "start_time": "2023-06-19T12:34:34.166Z"
   },
   {
    "duration": 340,
    "start_time": "2023-06-19T12:34:34.270Z"
   },
   {
    "duration": 0,
    "start_time": "2023-06-19T12:34:34.612Z"
   },
   {
    "duration": 0,
    "start_time": "2023-06-19T12:34:34.613Z"
   },
   {
    "duration": 0,
    "start_time": "2023-06-19T12:34:34.614Z"
   },
   {
    "duration": 0,
    "start_time": "2023-06-19T12:34:34.615Z"
   },
   {
    "duration": 0,
    "start_time": "2023-06-19T12:34:34.616Z"
   },
   {
    "duration": 0,
    "start_time": "2023-06-19T12:34:34.617Z"
   },
   {
    "duration": 0,
    "start_time": "2023-06-19T12:34:34.619Z"
   },
   {
    "duration": 4,
    "start_time": "2023-06-19T12:36:29.161Z"
   },
   {
    "duration": 97,
    "start_time": "2023-06-19T12:36:29.167Z"
   },
   {
    "duration": 809,
    "start_time": "2023-06-19T12:36:29.266Z"
   },
   {
    "duration": 28,
    "start_time": "2023-06-19T12:36:30.077Z"
   },
   {
    "duration": 39,
    "start_time": "2023-06-19T12:36:30.108Z"
   },
   {
    "duration": 254,
    "start_time": "2023-06-19T12:36:30.149Z"
   },
   {
    "duration": 26,
    "start_time": "2023-06-19T12:36:30.405Z"
   },
   {
    "duration": 66,
    "start_time": "2023-06-19T12:36:30.432Z"
   },
   {
    "duration": 45,
    "start_time": "2023-06-19T12:36:30.500Z"
   },
   {
    "duration": 61,
    "start_time": "2023-06-19T12:36:30.547Z"
   },
   {
    "duration": 79,
    "start_time": "2023-06-19T12:36:30.609Z"
   },
   {
    "duration": 43,
    "start_time": "2023-06-19T12:36:30.690Z"
   },
   {
    "duration": 547,
    "start_time": "2023-06-19T12:36:30.735Z"
   },
   {
    "duration": 13357,
    "start_time": "2023-06-19T12:36:31.286Z"
   },
   {
    "duration": 3,
    "start_time": "2023-06-19T12:36:44.645Z"
   },
   {
    "duration": 76,
    "start_time": "2023-06-19T12:36:44.653Z"
   },
   {
    "duration": 20,
    "start_time": "2023-06-19T12:36:44.731Z"
   },
   {
    "duration": 0,
    "start_time": "2023-06-19T12:36:44.753Z"
   },
   {
    "duration": 0,
    "start_time": "2023-06-19T12:36:44.755Z"
   },
   {
    "duration": 0,
    "start_time": "2023-06-19T12:36:44.756Z"
   },
   {
    "duration": 0,
    "start_time": "2023-06-19T12:36:44.758Z"
   },
   {
    "duration": 0,
    "start_time": "2023-06-19T12:36:44.759Z"
   },
   {
    "duration": 0,
    "start_time": "2023-06-19T12:36:44.761Z"
   },
   {
    "duration": 0,
    "start_time": "2023-06-19T12:36:44.763Z"
   },
   {
    "duration": 4,
    "start_time": "2023-06-19T12:37:34.905Z"
   },
   {
    "duration": 6,
    "start_time": "2023-06-19T12:37:34.914Z"
   },
   {
    "duration": 854,
    "start_time": "2023-06-19T12:37:34.922Z"
   },
   {
    "duration": 32,
    "start_time": "2023-06-19T12:37:35.778Z"
   },
   {
    "duration": 9,
    "start_time": "2023-06-19T12:37:35.811Z"
   },
   {
    "duration": 256,
    "start_time": "2023-06-19T12:37:35.823Z"
   },
   {
    "duration": 28,
    "start_time": "2023-06-19T12:37:36.080Z"
   },
   {
    "duration": 33,
    "start_time": "2023-06-19T12:37:36.110Z"
   },
   {
    "duration": 59,
    "start_time": "2023-06-19T12:37:36.145Z"
   },
   {
    "duration": 2183,
    "start_time": "2023-06-19T12:37:36.206Z"
   },
   {
    "duration": 4,
    "start_time": "2023-06-19T12:37:38.390Z"
   },
   {
    "duration": 486,
    "start_time": "2023-06-19T12:37:38.396Z"
   },
   {
    "duration": 2140096,
    "start_time": "2023-06-19T12:37:38.884Z"
   },
   {
    "duration": 3,
    "start_time": "2023-06-19T13:13:18.983Z"
   },
   {
    "duration": 7176,
    "start_time": "2023-06-19T13:13:18.988Z"
   },
   {
    "duration": 23,
    "start_time": "2023-06-19T13:13:26.166Z"
   },
   {
    "duration": 0,
    "start_time": "2023-06-19T13:13:26.191Z"
   },
   {
    "duration": 0,
    "start_time": "2023-06-19T13:13:26.192Z"
   },
   {
    "duration": 0,
    "start_time": "2023-06-19T13:13:26.193Z"
   },
   {
    "duration": 0,
    "start_time": "2023-06-19T13:13:26.195Z"
   },
   {
    "duration": 0,
    "start_time": "2023-06-19T13:13:26.196Z"
   },
   {
    "duration": 0,
    "start_time": "2023-06-19T13:13:26.197Z"
   },
   {
    "duration": 0,
    "start_time": "2023-06-19T13:13:26.198Z"
   },
   {
    "duration": 5337,
    "start_time": "2023-06-19T17:32:24.777Z"
   },
   {
    "duration": 222,
    "start_time": "2023-06-19T17:32:30.116Z"
   },
   {
    "duration": 2695,
    "start_time": "2023-06-19T17:32:30.340Z"
   },
   {
    "duration": 22,
    "start_time": "2023-06-19T17:32:33.037Z"
   },
   {
    "duration": 24,
    "start_time": "2023-06-19T17:32:33.061Z"
   },
   {
    "duration": 260,
    "start_time": "2023-06-19T17:32:33.087Z"
   },
   {
    "duration": 29,
    "start_time": "2023-06-19T17:32:33.349Z"
   },
   {
    "duration": 11,
    "start_time": "2023-06-19T17:32:33.380Z"
   },
   {
    "duration": 50,
    "start_time": "2023-06-19T17:32:33.393Z"
   },
   {
    "duration": 2112,
    "start_time": "2023-06-19T17:32:33.445Z"
   },
   {
    "duration": 5,
    "start_time": "2023-06-19T17:32:35.559Z"
   },
   {
    "duration": 736,
    "start_time": "2023-06-19T17:32:35.566Z"
   },
   {
    "duration": 1826284,
    "start_time": "2023-06-19T17:32:36.304Z"
   },
   {
    "duration": 2,
    "start_time": "2023-06-19T18:03:02.590Z"
   },
   {
    "duration": 6908,
    "start_time": "2023-06-19T18:03:02.594Z"
   },
   {
    "duration": 388,
    "start_time": "2023-06-19T18:03:09.504Z"
   },
   {
    "duration": 0,
    "start_time": "2023-06-19T18:03:09.893Z"
   },
   {
    "duration": 0,
    "start_time": "2023-06-19T18:03:09.894Z"
   },
   {
    "duration": 0,
    "start_time": "2023-06-19T18:03:09.895Z"
   },
   {
    "duration": 0,
    "start_time": "2023-06-19T18:03:09.896Z"
   },
   {
    "duration": 0,
    "start_time": "2023-06-19T18:03:09.897Z"
   },
   {
    "duration": 0,
    "start_time": "2023-06-19T18:03:09.898Z"
   },
   {
    "duration": 0,
    "start_time": "2023-06-19T18:03:09.899Z"
   },
   {
    "duration": 5126,
    "start_time": "2023-06-19T18:49:34.503Z"
   },
   {
    "duration": 161,
    "start_time": "2023-06-19T18:49:39.631Z"
   },
   {
    "duration": 2386,
    "start_time": "2023-06-19T18:49:39.794Z"
   },
   {
    "duration": 32,
    "start_time": "2023-06-19T18:49:42.182Z"
   },
   {
    "duration": 19,
    "start_time": "2023-06-19T18:49:42.216Z"
   },
   {
    "duration": 240,
    "start_time": "2023-06-19T18:49:42.237Z"
   },
   {
    "duration": 27,
    "start_time": "2023-06-19T18:49:42.478Z"
   },
   {
    "duration": 7,
    "start_time": "2023-06-19T18:49:42.506Z"
   },
   {
    "duration": 73,
    "start_time": "2023-06-19T18:49:42.515Z"
   },
   {
    "duration": 1749,
    "start_time": "2023-06-19T18:49:42.591Z"
   },
   {
    "duration": 3,
    "start_time": "2023-06-19T18:49:44.342Z"
   },
   {
    "duration": 611,
    "start_time": "2023-06-19T18:49:44.351Z"
   },
   {
    "duration": 4423,
    "start_time": "2023-06-19T19:02:21.273Z"
   },
   {
    "duration": 238,
    "start_time": "2023-06-19T19:02:25.698Z"
   },
   {
    "duration": 863,
    "start_time": "2023-06-19T19:02:25.938Z"
   },
   {
    "duration": 38,
    "start_time": "2023-06-19T19:02:26.803Z"
   },
   {
    "duration": 35,
    "start_time": "2023-06-19T19:02:26.853Z"
   },
   {
    "duration": 277,
    "start_time": "2023-06-19T19:02:26.891Z"
   },
   {
    "duration": 34,
    "start_time": "2023-06-19T19:02:27.170Z"
   },
   {
    "duration": 11,
    "start_time": "2023-06-19T19:02:27.206Z"
   },
   {
    "duration": 9,
    "start_time": "2023-06-19T19:02:27.220Z"
   },
   {
    "duration": 8,
    "start_time": "2023-06-19T19:02:27.251Z"
   },
   {
    "duration": 24,
    "start_time": "2023-06-19T19:02:27.261Z"
   },
   {
    "duration": 27,
    "start_time": "2023-06-19T19:02:27.287Z"
   },
   {
    "duration": 525,
    "start_time": "2023-06-19T19:02:27.316Z"
   },
   {
    "duration": 1432,
    "start_time": "2023-06-19T19:02:27.844Z"
   },
   {
    "duration": 4,
    "start_time": "2023-06-19T19:02:29.278Z"
   },
   {
    "duration": 24,
    "start_time": "2023-06-19T19:02:29.283Z"
   },
   {
    "duration": 383,
    "start_time": "2023-06-19T19:02:29.308Z"
   },
   {
    "duration": 0,
    "start_time": "2023-06-19T19:02:29.693Z"
   },
   {
    "duration": 0,
    "start_time": "2023-06-19T19:02:29.694Z"
   },
   {
    "duration": 0,
    "start_time": "2023-06-19T19:02:29.697Z"
   },
   {
    "duration": 0,
    "start_time": "2023-06-19T19:02:29.698Z"
   },
   {
    "duration": 0,
    "start_time": "2023-06-19T19:02:29.699Z"
   },
   {
    "duration": 0,
    "start_time": "2023-06-19T19:02:29.700Z"
   },
   {
    "duration": 0,
    "start_time": "2023-06-19T19:02:29.702Z"
   },
   {
    "duration": 7,
    "start_time": "2023-06-19T19:02:51.575Z"
   },
   {
    "duration": 56,
    "start_time": "2023-06-19T19:02:51.584Z"
   },
   {
    "duration": 889,
    "start_time": "2023-06-19T19:02:51.642Z"
   },
   {
    "duration": 40,
    "start_time": "2023-06-19T19:02:52.533Z"
   },
   {
    "duration": 38,
    "start_time": "2023-06-19T19:02:52.575Z"
   },
   {
    "duration": 288,
    "start_time": "2023-06-19T19:02:52.615Z"
   },
   {
    "duration": 34,
    "start_time": "2023-06-19T19:02:52.905Z"
   },
   {
    "duration": 25,
    "start_time": "2023-06-19T19:02:52.951Z"
   },
   {
    "duration": 33,
    "start_time": "2023-06-19T19:02:52.980Z"
   },
   {
    "duration": 20,
    "start_time": "2023-06-19T19:02:53.015Z"
   },
   {
    "duration": 22,
    "start_time": "2023-06-19T19:02:53.037Z"
   },
   {
    "duration": 22,
    "start_time": "2023-06-19T19:02:53.061Z"
   },
   {
    "duration": 507,
    "start_time": "2023-06-19T19:02:53.085Z"
   },
   {
    "duration": 1502,
    "start_time": "2023-06-19T19:02:53.594Z"
   },
   {
    "duration": 4,
    "start_time": "2023-06-19T19:02:55.098Z"
   },
   {
    "duration": 25,
    "start_time": "2023-06-19T19:02:55.103Z"
   },
   {
    "duration": 22,
    "start_time": "2023-06-19T19:02:55.131Z"
   },
   {
    "duration": 19,
    "start_time": "2023-06-19T19:02:55.155Z"
   },
   {
    "duration": 17,
    "start_time": "2023-06-19T19:02:55.175Z"
   },
   {
    "duration": 12,
    "start_time": "2023-06-19T19:02:55.194Z"
   },
   {
    "duration": 11,
    "start_time": "2023-06-19T19:02:55.208Z"
   },
   {
    "duration": 15,
    "start_time": "2023-06-19T19:02:55.221Z"
   },
   {
    "duration": 38,
    "start_time": "2023-06-19T19:02:55.252Z"
   },
   {
    "duration": 4,
    "start_time": "2023-06-19T19:05:24.112Z"
   },
   {
    "duration": 11,
    "start_time": "2023-06-19T19:05:24.118Z"
   },
   {
    "duration": 823,
    "start_time": "2023-06-19T19:05:24.131Z"
   },
   {
    "duration": 36,
    "start_time": "2023-06-19T19:05:24.956Z"
   },
   {
    "duration": 26,
    "start_time": "2023-06-19T19:05:24.995Z"
   },
   {
    "duration": 267,
    "start_time": "2023-06-19T19:05:25.023Z"
   },
   {
    "duration": 36,
    "start_time": "2023-06-19T19:05:25.292Z"
   },
   {
    "duration": 26,
    "start_time": "2023-06-19T19:05:25.330Z"
   },
   {
    "duration": 22,
    "start_time": "2023-06-19T19:05:25.359Z"
   },
   {
    "duration": 28,
    "start_time": "2023-06-19T19:05:25.384Z"
   },
   {
    "duration": 11,
    "start_time": "2023-06-19T19:05:25.414Z"
   },
   {
    "duration": 5,
    "start_time": "2023-06-19T19:05:25.427Z"
   },
   {
    "duration": 556,
    "start_time": "2023-06-19T19:05:25.434Z"
   },
   {
    "duration": 1344,
    "start_time": "2023-06-19T19:05:25.993Z"
   },
   {
    "duration": 3,
    "start_time": "2023-06-19T19:05:27.338Z"
   },
   {
    "duration": 13,
    "start_time": "2023-06-19T19:05:27.351Z"
   },
   {
    "duration": 13,
    "start_time": "2023-06-19T19:05:27.365Z"
   },
   {
    "duration": 24,
    "start_time": "2023-06-19T19:05:27.380Z"
   },
   {
    "duration": 6,
    "start_time": "2023-06-19T19:05:27.406Z"
   },
   {
    "duration": 4,
    "start_time": "2023-06-19T19:05:27.414Z"
   },
   {
    "duration": 9,
    "start_time": "2023-06-19T19:05:27.420Z"
   },
   {
    "duration": 23,
    "start_time": "2023-06-19T19:05:27.430Z"
   },
   {
    "duration": 19,
    "start_time": "2023-06-19T19:05:27.455Z"
   },
   {
    "duration": 4,
    "start_time": "2023-06-19T19:09:38.855Z"
   },
   {
    "duration": 14,
    "start_time": "2023-06-19T19:09:38.861Z"
   },
   {
    "duration": 780,
    "start_time": "2023-06-19T19:09:38.876Z"
   },
   {
    "duration": 34,
    "start_time": "2023-06-19T19:09:39.658Z"
   },
   {
    "duration": 8,
    "start_time": "2023-06-19T19:09:39.695Z"
   },
   {
    "duration": 257,
    "start_time": "2023-06-19T19:09:39.705Z"
   },
   {
    "duration": 31,
    "start_time": "2023-06-19T19:09:39.964Z"
   },
   {
    "duration": 6,
    "start_time": "2023-06-19T19:09:39.997Z"
   },
   {
    "duration": 68,
    "start_time": "2023-06-19T19:09:40.005Z"
   },
   {
    "duration": 1667,
    "start_time": "2023-06-19T19:09:40.075Z"
   },
   {
    "duration": 10,
    "start_time": "2023-06-19T19:09:41.744Z"
   },
   {
    "duration": 435,
    "start_time": "2023-06-19T19:09:41.756Z"
   },
   {
    "duration": 1782154,
    "start_time": "2023-06-19T19:09:42.192Z"
   },
   {
    "duration": 3,
    "start_time": "2023-06-19T19:39:24.349Z"
   },
   {
    "duration": 7857,
    "start_time": "2023-06-19T19:39:24.357Z"
   },
   {
    "duration": 16,
    "start_time": "2023-06-19T19:39:32.216Z"
   },
   {
    "duration": 42924,
    "start_time": "2023-06-19T19:39:32.234Z"
   },
   {
    "duration": 1667447,
    "start_time": "2023-06-19T19:40:15.160Z"
   },
   {
    "duration": 335721,
    "start_time": "2023-06-19T20:08:02.609Z"
   },
   {
    "duration": 44,
    "start_time": "2023-06-19T20:13:38.332Z"
   },
   {
    "duration": 5,
    "start_time": "2023-06-19T20:13:38.378Z"
   },
   {
    "duration": 377531,
    "start_time": "2023-06-19T20:13:38.385Z"
   },
   {
    "duration": 13677,
    "start_time": "2023-06-19T20:22:10.288Z"
   },
   {
    "duration": 7,
    "start_time": "2023-06-19T20:22:42.672Z"
   },
   {
    "duration": 50429,
    "start_time": "2023-06-19T20:23:29.683Z"
   },
   {
    "duration": 4,
    "start_time": "2023-06-19T20:24:33.142Z"
   },
   {
    "duration": 23,
    "start_time": "2023-06-19T20:24:45.722Z"
   },
   {
    "duration": 4,
    "start_time": "2023-06-19T20:24:47.209Z"
   },
   {
    "duration": 65,
    "start_time": "2023-06-19T20:28:10.378Z"
   },
   {
    "duration": 4,
    "start_time": "2023-06-19T20:28:20.005Z"
   },
   {
    "duration": 5,
    "start_time": "2023-06-19T20:28:36.804Z"
   },
   {
    "duration": 203,
    "start_time": "2023-06-19T20:28:36.812Z"
   },
   {
    "duration": 725,
    "start_time": "2023-06-19T20:28:37.017Z"
   },
   {
    "duration": 34,
    "start_time": "2023-06-19T20:28:37.744Z"
   },
   {
    "duration": 37,
    "start_time": "2023-06-19T20:28:37.781Z"
   },
   {
    "duration": 287,
    "start_time": "2023-06-19T20:28:37.819Z"
   },
   {
    "duration": 32,
    "start_time": "2023-06-19T20:28:38.108Z"
   },
   {
    "duration": 14,
    "start_time": "2023-06-19T20:28:38.159Z"
   },
   {
    "duration": 92,
    "start_time": "2023-06-19T20:28:38.185Z"
   },
   {
    "duration": 2630,
    "start_time": "2023-06-19T20:28:38.279Z"
   },
   {
    "duration": 3,
    "start_time": "2023-06-19T20:28:40.911Z"
   },
   {
    "duration": 602,
    "start_time": "2023-06-19T20:28:40.916Z"
   },
   {
    "duration": 2122849,
    "start_time": "2023-06-19T20:28:41.520Z"
   },
   {
    "duration": 13,
    "start_time": "2023-06-19T21:04:04.372Z"
   },
   {
    "duration": 7701,
    "start_time": "2023-06-19T21:04:04.387Z"
   },
   {
    "duration": 13,
    "start_time": "2023-06-19T21:04:12.090Z"
   },
   {
    "duration": 55059,
    "start_time": "2023-06-19T21:04:12.105Z"
   },
   {
    "duration": 4612593,
    "start_time": "2023-06-19T21:05:07.166Z"
   },
   {
    "duration": 311178,
    "start_time": "2023-06-19T22:21:59.760Z"
   },
   {
    "duration": 25,
    "start_time": "2023-06-19T22:27:10.941Z"
   },
   {
    "duration": 12,
    "start_time": "2023-06-19T22:27:10.970Z"
   },
   {
    "duration": 81258,
    "start_time": "2023-06-19T22:27:10.990Z"
   },
   {
    "duration": 5,
    "start_time": "2023-06-19T22:37:55.634Z"
   },
   {
    "duration": 21,
    "start_time": "2023-06-19T22:38:05.699Z"
   },
   {
    "duration": 5,
    "start_time": "2023-06-19T22:38:59.706Z"
   },
   {
    "duration": 257,
    "start_time": "2023-06-19T22:38:59.713Z"
   },
   {
    "duration": 775,
    "start_time": "2023-06-19T22:38:59.971Z"
   },
   {
    "duration": 41,
    "start_time": "2023-06-19T22:39:00.749Z"
   },
   {
    "duration": 34,
    "start_time": "2023-06-19T22:39:00.792Z"
   },
   {
    "duration": 268,
    "start_time": "2023-06-19T22:39:00.829Z"
   },
   {
    "duration": 35,
    "start_time": "2023-06-19T22:39:01.099Z"
   },
   {
    "duration": 37,
    "start_time": "2023-06-19T22:39:01.136Z"
   },
   {
    "duration": 30,
    "start_time": "2023-06-19T22:39:01.176Z"
   },
   {
    "duration": 43,
    "start_time": "2023-06-19T22:39:01.208Z"
   },
   {
    "duration": 65,
    "start_time": "2023-06-19T22:39:01.253Z"
   },
   {
    "duration": 80,
    "start_time": "2023-06-19T22:39:01.320Z"
   },
   {
    "duration": 831,
    "start_time": "2023-06-19T22:39:01.402Z"
   },
   {
    "duration": 12087,
    "start_time": "2023-06-19T22:39:02.235Z"
   },
   {
    "duration": 20,
    "start_time": "2023-06-19T22:39:14.324Z"
   },
   {
    "duration": 53,
    "start_time": "2023-06-19T22:39:14.352Z"
   },
   {
    "duration": 13,
    "start_time": "2023-06-19T22:39:14.407Z"
   },
   {
    "duration": 45,
    "start_time": "2023-06-19T22:39:14.423Z"
   },
   {
    "duration": 0,
    "start_time": "2023-06-19T22:39:14.469Z"
   },
   {
    "duration": 1,
    "start_time": "2023-06-19T22:39:14.470Z"
   },
   {
    "duration": 0,
    "start_time": "2023-06-19T22:39:14.472Z"
   },
   {
    "duration": 0,
    "start_time": "2023-06-19T22:39:14.472Z"
   },
   {
    "duration": 0,
    "start_time": "2023-06-19T22:39:14.473Z"
   },
   {
    "duration": 5,
    "start_time": "2023-06-19T22:40:00.488Z"
   },
   {
    "duration": 103,
    "start_time": "2023-06-19T22:40:00.498Z"
   },
   {
    "duration": 793,
    "start_time": "2023-06-19T22:40:00.603Z"
   },
   {
    "duration": 37,
    "start_time": "2023-06-19T22:40:01.398Z"
   },
   {
    "duration": 210,
    "start_time": "2023-06-19T22:40:01.438Z"
   },
   {
    "duration": 352,
    "start_time": "2023-06-19T22:40:01.650Z"
   },
   {
    "duration": 30,
    "start_time": "2023-06-19T22:40:02.004Z"
   },
   {
    "duration": 43,
    "start_time": "2023-06-19T22:40:02.036Z"
   },
   {
    "duration": 26,
    "start_time": "2023-06-19T22:40:02.081Z"
   },
   {
    "duration": 46,
    "start_time": "2023-06-19T22:40:02.109Z"
   },
   {
    "duration": 59,
    "start_time": "2023-06-19T22:40:02.158Z"
   },
   {
    "duration": 84,
    "start_time": "2023-06-19T22:40:02.219Z"
   },
   {
    "duration": 526,
    "start_time": "2023-06-19T22:40:02.306Z"
   },
   {
    "duration": 12416,
    "start_time": "2023-06-19T22:40:02.834Z"
   },
   {
    "duration": 3,
    "start_time": "2023-06-19T22:40:15.253Z"
   },
   {
    "duration": 62,
    "start_time": "2023-06-19T22:40:15.258Z"
   },
   {
    "duration": 31,
    "start_time": "2023-06-19T22:40:15.322Z"
   },
   {
    "duration": 28,
    "start_time": "2023-06-19T22:40:15.356Z"
   },
   {
    "duration": 0,
    "start_time": "2023-06-19T22:40:15.386Z"
   },
   {
    "duration": 0,
    "start_time": "2023-06-19T22:40:15.389Z"
   },
   {
    "duration": 0,
    "start_time": "2023-06-19T22:40:15.390Z"
   },
   {
    "duration": 0,
    "start_time": "2023-06-19T22:40:15.392Z"
   },
   {
    "duration": 0,
    "start_time": "2023-06-19T22:40:15.393Z"
   },
   {
    "duration": 5,
    "start_time": "2023-06-19T22:41:05.925Z"
   },
   {
    "duration": 48,
    "start_time": "2023-06-19T22:41:05.932Z"
   },
   {
    "duration": 791,
    "start_time": "2023-06-19T22:41:05.983Z"
   },
   {
    "duration": 37,
    "start_time": "2023-06-19T22:41:06.776Z"
   },
   {
    "duration": 12,
    "start_time": "2023-06-19T22:41:06.815Z"
   },
   {
    "duration": 273,
    "start_time": "2023-06-19T22:41:06.829Z"
   },
   {
    "duration": 31,
    "start_time": "2023-06-19T22:41:07.104Z"
   },
   {
    "duration": 18,
    "start_time": "2023-06-19T22:41:07.137Z"
   },
   {
    "duration": 13,
    "start_time": "2023-06-19T22:41:07.157Z"
   },
   {
    "duration": 17,
    "start_time": "2023-06-19T22:41:07.172Z"
   },
   {
    "duration": 32,
    "start_time": "2023-06-19T22:41:07.191Z"
   },
   {
    "duration": 27,
    "start_time": "2023-06-19T22:41:07.225Z"
   },
   {
    "duration": 490,
    "start_time": "2023-06-19T22:41:07.254Z"
   },
   {
    "duration": 12810,
    "start_time": "2023-06-19T22:41:07.747Z"
   },
   {
    "duration": 3,
    "start_time": "2023-06-19T22:41:20.560Z"
   },
   {
    "duration": 73,
    "start_time": "2023-06-19T22:41:20.565Z"
   },
   {
    "duration": 45,
    "start_time": "2023-06-19T22:41:20.640Z"
   },
   {
    "duration": 181,
    "start_time": "2023-06-19T22:41:20.687Z"
   },
   {
    "duration": 232,
    "start_time": "2023-06-19T22:41:20.870Z"
   },
   {
    "duration": 40,
    "start_time": "2023-06-19T22:41:21.104Z"
   },
   {
    "duration": 9,
    "start_time": "2023-06-19T22:41:21.152Z"
   },
   {
    "duration": 16,
    "start_time": "2023-06-19T22:41:21.163Z"
   },
   {
    "duration": 23,
    "start_time": "2023-06-19T22:41:21.182Z"
   },
   {
    "duration": 4,
    "start_time": "2023-06-19T22:42:10.820Z"
   },
   {
    "duration": 45,
    "start_time": "2023-06-19T22:42:10.826Z"
   },
   {
    "duration": 777,
    "start_time": "2023-06-19T22:42:10.872Z"
   },
   {
    "duration": 35,
    "start_time": "2023-06-19T22:42:11.651Z"
   },
   {
    "duration": 8,
    "start_time": "2023-06-19T22:42:11.689Z"
   },
   {
    "duration": 244,
    "start_time": "2023-06-19T22:42:11.699Z"
   },
   {
    "duration": 33,
    "start_time": "2023-06-19T22:42:11.945Z"
   },
   {
    "duration": 8,
    "start_time": "2023-06-19T22:42:11.980Z"
   },
   {
    "duration": 8,
    "start_time": "2023-06-19T22:42:11.989Z"
   },
   {
    "duration": 7,
    "start_time": "2023-06-19T22:42:11.998Z"
   },
   {
    "duration": 61,
    "start_time": "2023-06-19T22:42:12.006Z"
   },
   {
    "duration": 12,
    "start_time": "2023-06-19T22:42:12.070Z"
   },
   {
    "duration": 475,
    "start_time": "2023-06-19T22:42:12.083Z"
   },
   {
    "duration": 13605,
    "start_time": "2023-06-19T22:42:12.561Z"
   },
   {
    "duration": 3,
    "start_time": "2023-06-19T22:42:26.168Z"
   },
   {
    "duration": 64,
    "start_time": "2023-06-19T22:42:26.175Z"
   },
   {
    "duration": 20,
    "start_time": "2023-06-19T22:42:26.241Z"
   },
   {
    "duration": 70,
    "start_time": "2023-06-19T22:42:26.262Z"
   },
   {
    "duration": 134,
    "start_time": "2023-06-19T22:42:26.334Z"
   },
   {
    "duration": 17,
    "start_time": "2023-06-19T22:42:26.470Z"
   },
   {
    "duration": 34,
    "start_time": "2023-06-19T22:42:26.489Z"
   },
   {
    "duration": 23,
    "start_time": "2023-06-19T22:42:26.525Z"
   },
   {
    "duration": 35,
    "start_time": "2023-06-19T22:42:26.549Z"
   },
   {
    "duration": 6,
    "start_time": "2023-06-19T22:42:54.745Z"
   },
   {
    "duration": 52,
    "start_time": "2023-06-19T22:42:54.753Z"
   },
   {
    "duration": 1004,
    "start_time": "2023-06-19T22:42:54.807Z"
   },
   {
    "duration": 37,
    "start_time": "2023-06-19T22:42:55.813Z"
   },
   {
    "duration": 12,
    "start_time": "2023-06-19T22:42:55.853Z"
   },
   {
    "duration": 349,
    "start_time": "2023-06-19T22:42:55.867Z"
   },
   {
    "duration": 42,
    "start_time": "2023-06-19T22:42:56.218Z"
   },
   {
    "duration": 39,
    "start_time": "2023-06-19T22:42:56.265Z"
   },
   {
    "duration": 13,
    "start_time": "2023-06-19T22:42:56.306Z"
   },
   {
    "duration": 6,
    "start_time": "2023-06-19T22:42:56.321Z"
   },
   {
    "duration": 32,
    "start_time": "2023-06-19T22:42:56.330Z"
   },
   {
    "duration": 30,
    "start_time": "2023-06-19T22:42:56.366Z"
   },
   {
    "duration": 575,
    "start_time": "2023-06-19T22:42:56.398Z"
   },
   {
    "duration": 12815,
    "start_time": "2023-06-19T22:42:56.976Z"
   },
   {
    "duration": 3,
    "start_time": "2023-06-19T22:43:09.793Z"
   },
   {
    "duration": 72,
    "start_time": "2023-06-19T22:43:09.798Z"
   },
   {
    "duration": 12,
    "start_time": "2023-06-19T22:43:09.872Z"
   },
   {
    "duration": 44,
    "start_time": "2023-06-19T22:43:09.886Z"
   },
   {
    "duration": 80,
    "start_time": "2023-06-19T22:43:09.932Z"
   },
   {
    "duration": 16,
    "start_time": "2023-06-19T22:43:10.014Z"
   },
   {
    "duration": 34,
    "start_time": "2023-06-19T22:43:10.032Z"
   },
   {
    "duration": 11,
    "start_time": "2023-06-19T22:43:10.068Z"
   },
   {
    "duration": 44,
    "start_time": "2023-06-19T22:43:10.082Z"
   },
   {
    "duration": 7,
    "start_time": "2023-06-19T22:43:46.350Z"
   },
   {
    "duration": 17,
    "start_time": "2023-06-19T22:43:46.363Z"
   },
   {
    "duration": 735,
    "start_time": "2023-06-19T22:43:46.381Z"
   },
   {
    "duration": 40,
    "start_time": "2023-06-19T22:43:47.117Z"
   },
   {
    "duration": 9,
    "start_time": "2023-06-19T22:43:47.159Z"
   },
   {
    "duration": 235,
    "start_time": "2023-06-19T22:43:47.169Z"
   },
   {
    "duration": 28,
    "start_time": "2023-06-19T22:43:47.406Z"
   },
   {
    "duration": 18,
    "start_time": "2023-06-19T22:43:47.437Z"
   },
   {
    "duration": 20,
    "start_time": "2023-06-19T22:43:47.458Z"
   },
   {
    "duration": 16,
    "start_time": "2023-06-19T22:43:47.480Z"
   },
   {
    "duration": 25,
    "start_time": "2023-06-19T22:43:47.499Z"
   },
   {
    "duration": 6,
    "start_time": "2023-06-19T22:43:47.526Z"
   },
   {
    "duration": 483,
    "start_time": "2023-06-19T22:43:47.534Z"
   },
   {
    "duration": 14663,
    "start_time": "2023-06-19T22:43:48.020Z"
   },
   {
    "duration": 4,
    "start_time": "2023-06-19T22:44:02.685Z"
   },
   {
    "duration": 97,
    "start_time": "2023-06-19T22:44:02.691Z"
   },
   {
    "duration": 25,
    "start_time": "2023-06-19T22:44:02.791Z"
   },
   {
    "duration": 75,
    "start_time": "2023-06-19T22:44:02.818Z"
   },
   {
    "duration": 114,
    "start_time": "2023-06-19T22:44:02.895Z"
   },
   {
    "duration": 16,
    "start_time": "2023-06-19T22:44:03.011Z"
   },
   {
    "duration": 18,
    "start_time": "2023-06-19T22:44:03.029Z"
   },
   {
    "duration": 36,
    "start_time": "2023-06-19T22:44:03.049Z"
   },
   {
    "duration": 24,
    "start_time": "2023-06-19T22:44:03.087Z"
   },
   {
    "duration": 5,
    "start_time": "2023-06-19T22:52:22.586Z"
   },
   {
    "duration": 29,
    "start_time": "2023-06-19T22:52:22.593Z"
   },
   {
    "duration": 785,
    "start_time": "2023-06-19T22:52:22.624Z"
   },
   {
    "duration": 31,
    "start_time": "2023-06-19T22:52:23.410Z"
   },
   {
    "duration": 27,
    "start_time": "2023-06-19T22:52:23.453Z"
   },
   {
    "duration": 245,
    "start_time": "2023-06-19T22:52:23.485Z"
   },
   {
    "duration": 37,
    "start_time": "2023-06-19T22:52:23.731Z"
   },
   {
    "duration": 22,
    "start_time": "2023-06-19T22:52:23.778Z"
   },
   {
    "duration": 39,
    "start_time": "2023-06-19T22:52:23.802Z"
   },
   {
    "duration": 2158,
    "start_time": "2023-06-19T22:52:23.843Z"
   },
   {
    "duration": 3,
    "start_time": "2023-06-19T22:52:26.003Z"
   },
   {
    "duration": 510,
    "start_time": "2023-06-19T22:52:26.008Z"
   },
   {
    "duration": 2090162,
    "start_time": "2023-06-19T22:52:26.520Z"
   },
   {
    "duration": 3,
    "start_time": "2023-06-19T23:27:16.685Z"
   },
   {
    "duration": 7358,
    "start_time": "2023-06-19T23:27:16.690Z"
   },
   {
    "duration": 18,
    "start_time": "2023-06-19T23:27:24.050Z"
   },
   {
    "duration": 47291,
    "start_time": "2023-06-19T23:27:24.070Z"
   },
   {
    "duration": 4224497,
    "start_time": "2023-06-19T23:28:11.366Z"
   },
   {
    "duration": 131503,
    "start_time": "2023-06-20T00:38:35.865Z"
   },
   {
    "duration": 15,
    "start_time": "2023-06-20T00:40:47.370Z"
   },
   {
    "duration": 4,
    "start_time": "2023-06-20T00:40:47.386Z"
   },
   {
    "duration": 35327,
    "start_time": "2023-06-20T00:40:47.391Z"
   },
   {
    "duration": 5323,
    "start_time": "2023-06-20T08:32:37.484Z"
   },
   {
    "duration": 252,
    "start_time": "2023-06-20T08:32:42.809Z"
   },
   {
    "duration": 3324,
    "start_time": "2023-06-20T08:32:43.063Z"
   },
   {
    "duration": 37,
    "start_time": "2023-06-20T08:32:46.389Z"
   },
   {
    "duration": 11,
    "start_time": "2023-06-20T08:32:46.428Z"
   },
   {
    "duration": 272,
    "start_time": "2023-06-20T08:32:46.440Z"
   },
   {
    "duration": 45,
    "start_time": "2023-06-20T08:32:46.714Z"
   },
   {
    "duration": 6,
    "start_time": "2023-06-20T08:32:46.761Z"
   },
   {
    "duration": 44,
    "start_time": "2023-06-20T08:32:46.769Z"
   },
   {
    "duration": 1906,
    "start_time": "2023-06-20T08:32:46.815Z"
   },
   {
    "duration": 5,
    "start_time": "2023-06-20T08:32:48.723Z"
   },
   {
    "duration": 692,
    "start_time": "2023-06-20T08:32:48.729Z"
   },
   {
    "duration": 2002164,
    "start_time": "2023-06-20T08:32:49.423Z"
   },
   {
    "duration": 3,
    "start_time": "2023-06-20T09:06:11.590Z"
   },
   {
    "duration": 7418,
    "start_time": "2023-06-20T09:06:11.595Z"
   },
   {
    "duration": 18,
    "start_time": "2023-06-20T09:06:19.015Z"
   },
   {
    "duration": 124037,
    "start_time": "2023-06-20T09:06:19.036Z"
   },
   {
    "duration": 84,
    "start_time": "2023-06-20T09:08:23.074Z"
   },
   {
    "duration": 18,
    "start_time": "2023-06-20T09:08:23.160Z"
   },
   {
    "duration": 4,
    "start_time": "2023-06-20T09:08:23.181Z"
   },
   {
    "duration": 17,
    "start_time": "2023-06-20T09:08:23.187Z"
   },
   {
    "duration": 120250,
    "start_time": "2023-06-20T09:33:51.816Z"
   },
   {
    "duration": 93,
    "start_time": "2023-06-20T09:35:52.069Z"
   },
   {
    "duration": 38,
    "start_time": "2023-06-20T09:35:52.165Z"
   },
   {
    "duration": 15,
    "start_time": "2023-06-20T09:35:52.206Z"
   },
   {
    "duration": 5,
    "start_time": "2023-06-20T09:41:45.927Z"
   },
   {
    "duration": 194,
    "start_time": "2023-06-20T09:41:45.934Z"
   },
   {
    "duration": 741,
    "start_time": "2023-06-20T09:41:46.130Z"
   },
   {
    "duration": 40,
    "start_time": "2023-06-20T09:41:46.873Z"
   },
   {
    "duration": 11,
    "start_time": "2023-06-20T09:41:46.917Z"
   },
   {
    "duration": 304,
    "start_time": "2023-06-20T09:41:46.930Z"
   },
   {
    "duration": 39,
    "start_time": "2023-06-20T09:41:47.236Z"
   },
   {
    "duration": 8,
    "start_time": "2023-06-20T09:41:47.277Z"
   },
   {
    "duration": 71,
    "start_time": "2023-06-20T09:41:47.286Z"
   },
   {
    "duration": 2021,
    "start_time": "2023-06-20T09:41:47.359Z"
   },
   {
    "duration": 4,
    "start_time": "2023-06-20T09:41:49.382Z"
   },
   {
    "duration": 468,
    "start_time": "2023-06-20T09:41:49.388Z"
   },
   {
    "duration": 2299535,
    "start_time": "2023-06-20T09:41:49.858Z"
   },
   {
    "duration": 19,
    "start_time": "2023-06-20T10:20:09.397Z"
   },
   {
    "duration": 8090,
    "start_time": "2023-06-20T10:20:09.418Z"
   },
   {
    "duration": 17,
    "start_time": "2023-06-20T10:20:17.510Z"
   },
   {
    "duration": 56459,
    "start_time": "2023-06-20T10:20:17.529Z"
   },
   {
    "duration": 4731994,
    "start_time": "2023-06-20T10:21:14.065Z"
   },
   {
    "duration": 128708,
    "start_time": "2023-06-20T11:40:06.064Z"
   },
   {
    "duration": 18,
    "start_time": "2023-06-20T11:42:14.774Z"
   },
   {
    "duration": 6,
    "start_time": "2023-06-20T11:42:14.794Z"
   },
   {
    "duration": 10,
    "start_time": "2023-06-20T11:42:14.801Z"
   },
   {
    "duration": 17558,
    "start_time": "2023-06-20T15:01:27.674Z"
   },
   {
    "duration": 338,
    "start_time": "2023-06-20T15:01:45.234Z"
   },
   {
    "duration": 4216,
    "start_time": "2023-06-20T15:01:45.575Z"
   },
   {
    "duration": 42,
    "start_time": "2023-06-20T15:01:49.794Z"
   },
   {
    "duration": 14,
    "start_time": "2023-06-20T15:01:49.838Z"
   },
   {
    "duration": 286,
    "start_time": "2023-06-20T15:01:49.854Z"
   },
   {
    "duration": 43,
    "start_time": "2023-06-20T15:01:50.142Z"
   },
   {
    "duration": 9,
    "start_time": "2023-06-20T15:01:50.186Z"
   },
   {
    "duration": 76,
    "start_time": "2023-06-20T15:01:50.199Z"
   },
   {
    "duration": 5,
    "start_time": "2023-06-20T15:01:56.511Z"
   },
   {
    "duration": 6,
    "start_time": "2023-06-20T15:02:00.243Z"
   },
   {
    "duration": 5,
    "start_time": "2023-06-20T15:02:18.601Z"
   },
   {
    "duration": 16550,
    "start_time": "2023-06-20T19:30:50.430Z"
   },
   {
    "duration": 311,
    "start_time": "2023-06-20T19:31:06.982Z"
   },
   {
    "duration": 3082,
    "start_time": "2023-06-20T19:31:07.294Z"
   },
   {
    "duration": 51,
    "start_time": "2023-06-20T19:31:10.377Z"
   },
   {
    "duration": 27,
    "start_time": "2023-06-20T19:31:10.435Z"
   },
   {
    "duration": 272,
    "start_time": "2023-06-20T19:31:10.463Z"
   },
   {
    "duration": 22,
    "start_time": "2023-06-20T19:31:10.737Z"
   },
   {
    "duration": 23,
    "start_time": "2023-06-20T19:31:10.760Z"
   },
   {
    "duration": 51,
    "start_time": "2023-06-20T19:31:10.784Z"
   },
   {
    "duration": 25,
    "start_time": "2023-06-20T19:31:10.845Z"
   },
   {
    "duration": 2443,
    "start_time": "2023-06-20T19:31:10.871Z"
   },
   {
    "duration": 11,
    "start_time": "2023-06-20T19:31:13.322Z"
   },
   {
    "duration": 798,
    "start_time": "2023-06-20T19:31:13.335Z"
   },
   {
    "duration": 1877712,
    "start_time": "2023-06-20T19:31:14.137Z"
   },
   {
    "duration": 3,
    "start_time": "2023-06-20T20:02:31.851Z"
   },
   {
    "duration": 7558,
    "start_time": "2023-06-20T20:02:31.855Z"
   },
   {
    "duration": 17,
    "start_time": "2023-06-20T20:02:39.414Z"
   },
   {
    "duration": 52099,
    "start_time": "2023-06-20T20:02:39.434Z"
   },
   {
    "duration": 3522555,
    "start_time": "2023-06-20T20:03:31.534Z"
   },
   {
    "duration": 60034,
    "start_time": "2023-06-20T21:02:14.091Z"
   },
   {
    "duration": 13,
    "start_time": "2023-06-20T21:03:14.127Z"
   },
   {
    "duration": 13,
    "start_time": "2023-06-20T21:03:14.142Z"
   },
   {
    "duration": 28,
    "start_time": "2023-06-20T21:03:14.157Z"
   }
  ],
  "kernelspec": {
   "display_name": "Python 3 (ipykernel)",
   "language": "python",
   "name": "python3"
  },
  "language_info": {
   "codemirror_mode": {
    "name": "ipython",
    "version": 3
   },
   "file_extension": ".py",
   "mimetype": "text/x-python",
   "name": "python",
   "nbconvert_exporter": "python",
   "pygments_lexer": "ipython3",
   "version": "3.9.13"
  },
  "toc": {
   "base_numbering": 1,
   "nav_menu": {},
   "number_sections": true,
   "sideBar": true,
   "skip_h1_title": true,
   "title_cell": "Содержание",
   "title_sidebar": "Contents",
   "toc_cell": true,
   "toc_position": {
    "height": "calc(100% - 180px)",
    "left": "10px",
    "top": "150px",
    "width": "302.391px"
   },
   "toc_section_display": true,
   "toc_window_display": false
  }
 },
 "nbformat": 4,
 "nbformat_minor": 2
}
